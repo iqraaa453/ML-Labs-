{
  "nbformat": 4,
  "nbformat_minor": 0,
  "metadata": {
    "colab": {
      "provenance": []
    },
    "kernelspec": {
      "name": "python3",
      "display_name": "Python 3"
    },
    "language_info": {
      "name": "python"
    }
  },
  "cells": [
    {
      "cell_type": "markdown",
      "source": [
        "# Random Forest on 1st Dataset"
      ],
      "metadata": {
        "id": "d3dOMs8-DPf8"
      }
    },
    {
      "cell_type": "code",
      "execution_count": 80,
      "metadata": {
        "id": "PUJvQT1I8ZBk"
      },
      "outputs": [],
      "source": [
        "import pandas as pd\n",
        "import numpy as np\n",
        "import itertools\n",
        "import random\n",
        "from sklearn.metrics import accuracy_score, classification_report\n",
        "from sklearn.model_selection import train_test_split\n",
        "import matplotlib.pyplot as plt\n",
        "from matplotlib import pyplot as plt"
      ]
    },
    {
      "cell_type": "code",
      "source": [
        "dataset = pd.read_csv('/content/advertising.csv')"
      ],
      "metadata": {
        "id": "YCBISZ2n-O8p"
      },
      "execution_count": 81,
      "outputs": []
    },
    {
      "cell_type": "code",
      "source": [
        "def gini_index(y):\n",
        "    m = len(y)\n",
        "    if m <= 1:\n",
        "        return 0\n",
        "\n",
        "    counts = y.value_counts()\n",
        "    gini = 1 - sum((count / m) ** 2 for count in counts)\n",
        "    return gini\n",
        "\n",
        "def entropy(y):\n",
        "    a = y.value_counts() / y.shape[0]\n",
        "    return np.sum(-a * np.log2(a + 1e-9))"
      ],
      "metadata": {
        "id": "LZLORXWH-Qzc"
      },
      "execution_count": 82,
      "outputs": []
    },
    {
      "cell_type": "code",
      "source": [
        "def gini_information_gain(y, mask):\n",
        "    total_size = len(y)\n",
        "    left_size = sum(mask)\n",
        "    right_size = total_size - left_size\n",
        "    if left_size == 0 or right_size == 0:\n",
        "        return 0\n",
        "    left_gini = gini_index(y[mask])\n",
        "    right_gini = gini_index(y[~mask])\n",
        "    gain = gini_index(y) - (left_size / total_size * left_gini + right_size / total_size * right_gini)\n",
        "    return gain"
      ],
      "metadata": {
        "id": "aj2WyBF9-ZCz"
      },
      "execution_count": 83,
      "outputs": []
    },
    {
      "cell_type": "code",
      "source": [
        "def entropy_information_gain(y, mask):\n",
        "    total_size = len(y)\n",
        "    left_size = sum(mask)\n",
        "    right_size = total_size - left_size\n",
        "    if left_size == 0 or right_size == 0:\n",
        "        return 0\n",
        "    left_entropy = entropy(y[mask])\n",
        "    right_entropy = entropy(y[~mask])\n",
        "    gain = entropy(y) - (left_size / total_size * left_entropy + right_size / total_size * right_entropy)\n",
        "    return gain"
      ],
      "metadata": {
        "id": "5q5k-7GG-dJR"
      },
      "execution_count": 84,
      "outputs": []
    },
    {
      "cell_type": "code",
      "source": [
        "def best_split(dataset, y, func=entropy):\n",
        "    best_gain = -float('inf')\n",
        "    best_split_value = None\n",
        "    best_split_variable = None\n",
        "    best_mask = None\n",
        "    for column in dataset.columns:\n",
        "        values = dataset[column].unique()\n",
        "        for value in values:\n",
        "            if dataset[column].dtype != 'O':  # If it's numeric\n",
        "                mask = dataset[column] < value\n",
        "            else:\n",
        "                mask = dataset[column].isin([value])\n",
        "            if func == entropy:\n",
        "                gain = entropy_information_gain(y, mask)\n",
        "            else:\n",
        "                gain = gini_information_gain(y, mask)\n",
        "            if gain > best_gain:\n",
        "                best_gain = gain\n",
        "                best_split_value = value\n",
        "                best_split_variable = column\n",
        "                best_mask = mask\n",
        "    return best_split_variable, best_split_value, best_mask, best_gain"
      ],
      "metadata": {
        "id": "FL7Zhtx2-gI3"
      },
      "execution_count": 85,
      "outputs": []
    },
    {
      "cell_type": "code",
      "source": [
        "def train_tree(dataset, y, max_depth=None, min_samples_split=2, min_information_gain=1e-5, depth=0, func=entropy):\n",
        "    if len(y.unique()) == 1:  # Base case: Only one class\n",
        "        return y.iloc[0]\n",
        "    if depth == max_depth or len(dataset) < min_samples_split:\n",
        "        return y.mode()[0]  # Majority class\n",
        "    best_variable, best_value, best_mask, best_gain = best_split(dataset, y, func)\n",
        "    if best_gain < min_information_gain:\n",
        "        return y.mode()[0]\n",
        "    left_dataset = dataset[best_mask]\n",
        "    right_dataset = dataset[~best_mask]\n",
        "    left_y = y[best_mask]\n",
        "    right_y = y[~best_mask]\n",
        "    left_tree = train_tree(left_dataset, left_y, max_depth, min_samples_split, min_information_gain, depth+1, func)\n",
        "    right_tree = train_tree(right_dataset, right_y, max_depth, min_samples_split, min_information_gain, depth+1, func)\n",
        "    tree = {f'{best_variable} <= {best_value}': [left_tree, right_tree]}\n",
        "    return tree"
      ],
      "metadata": {
        "id": "JYsaUZ1o-ncN"
      },
      "execution_count": 86,
      "outputs": []
    },
    {
      "cell_type": "code",
      "source": [
        "def classify(observation, tree):\n",
        "    if isinstance(tree, dict):\n",
        "        question = list(tree.keys())[0]\n",
        "        feature, value = question.split(' <= ')\n",
        "        feature_value = observation[feature]\n",
        "        if isinstance(tree[question][0], dict):\n",
        "            if feature_value <= float(value):\n",
        "                return classify(observation, tree[question][0])\n",
        "            else:\n",
        "                return classify(observation, tree[question][1])\n",
        "        else:\n",
        "            return tree[question][0]\n",
        "    else:\n",
        "        return tree"
      ],
      "metadata": {
        "id": "j9MFo_hd-sbj"
      },
      "execution_count": 87,
      "outputs": []
    },
    {
      "cell_type": "code",
      "source": [
        "def create_bootstrapped_subsets(dataset, n_subsets=4):\n",
        "    subsets = []\n",
        "    for _ in range(n_subsets):\n",
        "        subset = dataset.sample(frac=1, replace=True)\n",
        "        subsets.append(subset)\n",
        "    return subsets"
      ],
      "metadata": {
        "id": "VttlXylf-xOZ"
      },
      "execution_count": 88,
      "outputs": []
    },
    {
      "cell_type": "code",
      "source": [
        "def train_multiple_trees(subsets, target_column, max_depth=5):\n",
        "    trees = []\n",
        "    for subset in subsets:\n",
        "        X = subset.drop(columns=[target_column])\n",
        "        y = subset[target_column]\n",
        "        tree = train_tree(X, y, max_depth=max_depth, func=gini_index)\n",
        "        trees.append(tree)\n",
        "    return trees"
      ],
      "metadata": {
        "id": "9sDHeWko-2nO"
      },
      "execution_count": 89,
      "outputs": []
    },
    {
      "cell_type": "code",
      "source": [
        "def evaluate_trees(trees, X, y):\n",
        "    accuracies = []\n",
        "    for tree in trees:\n",
        "        predictions = X.apply(lambda observation: classify(observation, tree), axis=1)\n",
        "        accuracy = accuracy_score(y, predictions)\n",
        "        accuracies.append(accuracy)\n",
        "    return accuracies"
      ],
      "metadata": {
        "id": "jfHoDJ5C-98u"
      },
      "execution_count": 90,
      "outputs": []
    },
    {
      "cell_type": "code",
      "source": [
        "def select_best_trees(trees, X, y, n_best=2):\n",
        "    accuracies = evaluate_trees(trees, X, y)\n",
        "    best_tree_indices = np.argsort(accuracies)[-n_best:]\n",
        "    best_trees = [trees[i] for i in best_tree_indices]\n",
        "    return best_trees"
      ],
      "metadata": {
        "id": "jH0wICZJ_AYk"
      },
      "execution_count": 91,
      "outputs": []
    },
    {
      "cell_type": "code",
      "source": [
        "def random_forest_predict(observation, best_trees):\n",
        "    tree_predictions = [classify(observation, tree) for tree in best_trees]\n",
        "    return max(set(tree_predictions), key=tree_predictions.count)"
      ],
      "metadata": {
        "id": "s0G3pVCw_Cc_"
      },
      "execution_count": 92,
      "outputs": []
    },
    {
      "cell_type": "code",
      "source": [
        "subsets = create_bootstrapped_subsets(dataset, n_subsets=4)\n",
        "target_column = 'Clicked on Ad'\n",
        "X = dataset.drop(columns=[target_column])\n",
        "y = dataset[target_column]\n",
        "\n",
        "trees = train_multiple_trees(subsets, target_column)\n",
        "best_trees = select_best_trees(trees, X, y, n_best=2)"
      ],
      "metadata": {
        "id": "fNQ9lcXS_HKC"
      },
      "execution_count": 93,
      "outputs": []
    },
    {
      "cell_type": "code",
      "source": [
        "predictions = X.apply(lambda observation: random_forest_predict(observation, best_trees), axis=1)\n",
        "random_forest_accuracy = accuracy_score(y, predictions)\n",
        "print(f\"Random Forest Accuracy: {random_forest_accuracy}\")"
      ],
      "metadata": {
        "colab": {
          "base_uri": "https://localhost:8080/"
        },
        "id": "Ie1xX_bu_MWd",
        "outputId": "13b30684-07ea-47c8-caa1-7039c8c121d6"
      },
      "execution_count": 94,
      "outputs": [
        {
          "output_type": "stream",
          "name": "stdout",
          "text": [
            "Random Forest Accuracy: 0.494\n"
          ]
        }
      ]
    },
    {
      "cell_type": "code",
      "source": [
        "def print_tree(tree, indent=\"\"):\n",
        "    if isinstance(tree, dict):\n",
        "        question = list(tree.keys())[0]\n",
        "        print(f\"{indent}Decision: {question}\")\n",
        "        print(f\"{indent}-> Left:\")\n",
        "        print_tree(tree[question][0], indent + \"  \")\n",
        "        print(f\"{indent}-> Right:\")\n",
        "        print_tree(tree[question][1], indent + \"  \")\n",
        "    else:\n",
        "        print(f\"{indent}Predict: {tree}\")\n",
        "\n",
        "for i, tree in enumerate(best_trees):\n",
        "    print(f\"Tree {i+1}:\\n\")\n",
        "    print_tree(tree)\n",
        "    print(\"\\n\" + \"=\"*50 + \"\\n\")"
      ],
      "metadata": {
        "colab": {
          "base_uri": "https://localhost:8080/"
        },
        "id": "MmZX2GeZ_Ujx",
        "outputId": "9fac88ab-ae0b-4c2e-ce68-e5e2edf92b5c"
      },
      "execution_count": 95,
      "outputs": [
        {
          "output_type": "stream",
          "name": "stdout",
          "text": [
            "Tree 1:\n",
            "\n",
            "Decision: Daily Internet Usage <= 175.14\n",
            "-> Left:\n",
            "  Decision: Daily Time Spent on Site <= 71.4\n",
            "  -> Left:\n",
            "    Decision: Area Income <= 76984.21\n",
            "    -> Left:\n",
            "      Predict: 1\n",
            "    -> Right:\n",
            "      Predict: 0\n",
            "  -> Right:\n",
            "    Decision: Daily Internet Usage <= 161.42\n",
            "    -> Left:\n",
            "      Decision: Ad Topic Line <= Progressive asynchronous adapter\n",
            "      -> Left:\n",
            "        Predict: 0\n",
            "      -> Right:\n",
            "        Decision: Ad Topic Line <= Progressive clear-thinking open architecture\n",
            "        -> Left:\n",
            "          Predict: 0\n",
            "        -> Right:\n",
            "          Predict: 1\n",
            "    -> Right:\n",
            "      Decision: Area Income <= 50950.24\n",
            "      -> Left:\n",
            "        Decision: Male <= 1\n",
            "        -> Left:\n",
            "          Predict: 1\n",
            "        -> Right:\n",
            "          Predict: 0\n",
            "      -> Right:\n",
            "        Predict: 0\n",
            "-> Right:\n",
            "  Decision: Daily Time Spent on Site <= 58.18\n",
            "  -> Left:\n",
            "    Decision: Age <= 28\n",
            "    -> Left:\n",
            "      Decision: Area Income <= 38817.4\n",
            "      -> Left:\n",
            "        Predict: 1\n",
            "      -> Right:\n",
            "        Decision: Daily Time Spent on Site <= 55.55\n",
            "        -> Left:\n",
            "          Predict: 1\n",
            "        -> Right:\n",
            "          Predict: 0\n",
            "    -> Right:\n",
            "      Decision: Area Income <= 73882.91\n",
            "      -> Left:\n",
            "        Predict: 1\n",
            "      -> Right:\n",
            "        Predict: 0\n",
            "  -> Right:\n",
            "    Decision: Area Income <= 33502.57\n",
            "    -> Left:\n",
            "      Predict: 1\n",
            "    -> Right:\n",
            "      Decision: Ad Topic Line <= Proactive context-sensitive project\n",
            "      -> Left:\n",
            "        Predict: 1\n",
            "      -> Right:\n",
            "        Decision: Age <= 53\n",
            "        -> Left:\n",
            "          Predict: 0\n",
            "        -> Right:\n",
            "          Predict: 1\n",
            "\n",
            "==================================================\n",
            "\n",
            "Tree 2:\n",
            "\n",
            "Decision: Daily Internet Usage <= 175.17\n",
            "-> Left:\n",
            "  Decision: Daily Time Spent on Site <= 85.35\n",
            "  -> Left:\n",
            "    Decision: Area Income <= 77988.71\n",
            "    -> Left:\n",
            "      Decision: Daily Time Spent on Site <= 71.4\n",
            "      -> Left:\n",
            "        Predict: 1\n",
            "      -> Right:\n",
            "        Decision: Daily Internet Usage <= 164.25\n",
            "        -> Left:\n",
            "          Predict: 1\n",
            "        -> Right:\n",
            "          Predict: 0\n",
            "    -> Right:\n",
            "      Predict: 0\n",
            "  -> Right:\n",
            "    Decision: Daily Internet Usage <= 153.01\n",
            "    -> Left:\n",
            "      Decision: Ad Topic Line <= Secured secondary superstructure\n",
            "      -> Left:\n",
            "        Predict: 0\n",
            "      -> Right:\n",
            "        Predict: 1\n",
            "    -> Right:\n",
            "      Predict: 0\n",
            "-> Right:\n",
            "  Decision: Daily Time Spent on Site <= 48.22\n",
            "  -> Left:\n",
            "    Predict: 1\n",
            "  -> Right:\n",
            "    Decision: Area Income <= 33502.57\n",
            "    -> Left:\n",
            "      Predict: 1\n",
            "    -> Right:\n",
            "      Decision: Age <= 60\n",
            "      -> Left:\n",
            "        Decision: Ad Topic Line <= Synergized cohesive array\n",
            "        -> Left:\n",
            "          Predict: 1\n",
            "        -> Right:\n",
            "          Predict: 0\n",
            "      -> Right:\n",
            "        Predict: 1\n",
            "\n",
            "==================================================\n",
            "\n"
          ]
        }
      ]
    },
    {
      "cell_type": "markdown",
      "source": [
        "# Random Forest on 2nd Dataset"
      ],
      "metadata": {
        "id": "g78Y_swGDcS_"
      }
    },
    {
      "cell_type": "code",
      "source": [
        "dataset = pd.read_csv('/content/dataset_traffic_accident.csv')"
      ],
      "metadata": {
        "id": "ui0jWlKpApof"
      },
      "execution_count": 96,
      "outputs": []
    },
    {
      "cell_type": "code",
      "source": [
        "dataset = dataset.dropna()"
      ],
      "metadata": {
        "id": "P6Ld2W2gFKIv"
      },
      "execution_count": 97,
      "outputs": []
    },
    {
      "cell_type": "code",
      "source": [
        "categorical_columns = dataset.select_dtypes(include=['object']).columns\n",
        "for column in categorical_columns:\n",
        "    dataset[column] = dataset[column].astype('category').cat.codes"
      ],
      "metadata": {
        "id": "q7Qo0_bKFMPv"
      },
      "execution_count": 98,
      "outputs": []
    },
    {
      "cell_type": "code",
      "source": [
        "target_column = 'Accident'\n",
        "X = dataset.drop(columns=[target_column])\n",
        "y = dataset[target_column]"
      ],
      "metadata": {
        "id": "6pCazIYEFPJo"
      },
      "execution_count": 99,
      "outputs": []
    },
    {
      "cell_type": "code",
      "source": [
        "max_depth_values = [5, 10, 15]\n",
        "min_samples_split_values = [2, 5, 10]\n",
        "min_samples_leaf_values = [1, 2, 4]\n",
        "\n",
        "best_trees = []\n",
        "\n",
        "for max_depth in max_depth_values:\n",
        "    for min_samples_split in min_samples_split_values:\n",
        "        for min_samples_leaf in min_samples_leaf_values:\n",
        "            print(f\"Training trees with max_depth={max_depth}, min_samples_split={min_samples_split}, min_samples_leaf={min_samples_leaf}\")\n",
        "\n",
        "            subsets = create_bootstrapped_subsets(dataset, n_subsets=4)\n",
        "\n",
        "            trees = train_multiple_trees(subsets, target_column, max_depth=max_depth)\n",
        "\n",
        "            accuracies = evaluate_trees(trees, X, y)\n",
        "            best_trees.append((max_depth, min_samples_split, min_samples_leaf, accuracies))\n",
        "\n",
        "            print(f\"Accuracy for this combination: {accuracies}\")"
      ],
      "metadata": {
        "colab": {
          "base_uri": "https://localhost:8080/"
        },
        "id": "Z8LH2GEkFXwc",
        "outputId": "a692a5f3-80cc-46b4-cca1-b51f1646c052"
      },
      "execution_count": 100,
      "outputs": [
        {
          "output_type": "stream",
          "name": "stdout",
          "text": [
            "Training trees with max_depth=5, min_samples_split=2, min_samples_leaf=1\n",
            "Accuracy for this combination: [0.7061728395061728, 0.5580246913580247, 0.7086419753086419, 0.4419753086419753]\n",
            "Training trees with max_depth=5, min_samples_split=2, min_samples_leaf=2\n",
            "Accuracy for this combination: [0.7061728395061728, 0.4617283950617284, 0.7012345679012346, 0.6987654320987654]\n",
            "Training trees with max_depth=5, min_samples_split=2, min_samples_leaf=4\n",
            "Accuracy for this combination: [0.671604938271605, 0.4271604938271605, 0.6938271604938272, 0.4074074074074074]\n",
            "Training trees with max_depth=5, min_samples_split=5, min_samples_leaf=1\n",
            "Accuracy for this combination: [0.7086419753086419, 0.5728395061728395, 0.7061728395061728, 0.7086419753086419]\n",
            "Training trees with max_depth=5, min_samples_split=5, min_samples_leaf=2\n",
            "Accuracy for this combination: [0.7037037037037037, 0.6024691358024692, 0.6641975308641975, 0.5506172839506173]\n",
            "Training trees with max_depth=5, min_samples_split=5, min_samples_leaf=4\n",
            "Accuracy for this combination: [0.6049382716049383, 0.7061728395061728, 0.6444444444444445, 0.5728395061728395]\n",
            "Training trees with max_depth=5, min_samples_split=10, min_samples_leaf=1\n",
            "Accuracy for this combination: [0.5679012345679012, 0.6814814814814815, 0.7135802469135802, 0.6938271604938272]\n",
            "Training trees with max_depth=5, min_samples_split=10, min_samples_leaf=2\n",
            "Accuracy for this combination: [0.7061728395061728, 0.5876543209876544, 0.6419753086419753, 0.4024691358024691]\n",
            "Training trees with max_depth=5, min_samples_split=10, min_samples_leaf=4\n",
            "Accuracy for this combination: [0.6123456790123457, 0.6172839506172839, 0.7061728395061728, 0.5481481481481482]\n",
            "Training trees with max_depth=10, min_samples_split=2, min_samples_leaf=1\n",
            "Accuracy for this combination: [0.6370370370370371, 0.6049382716049383, 0.6222222222222222, 0.5901234567901235]\n",
            "Training trees with max_depth=10, min_samples_split=2, min_samples_leaf=2\n",
            "Accuracy for this combination: [0.6691358024691358, 0.6864197530864198, 0.6, 0.5604938271604938]\n",
            "Training trees with max_depth=10, min_samples_split=2, min_samples_leaf=4\n",
            "Accuracy for this combination: [0.6271604938271605, 0.6666666666666666, 0.7185185185185186, 0.7037037037037037]\n",
            "Training trees with max_depth=10, min_samples_split=5, min_samples_leaf=1\n",
            "Accuracy for this combination: [0.49876543209876545, 0.6567901234567901, 0.508641975308642, 0.48148148148148145]\n",
            "Training trees with max_depth=10, min_samples_split=5, min_samples_leaf=2\n",
            "Accuracy for this combination: [0.40987654320987654, 0.5777777777777777, 0.5333333333333333, 0.5506172839506173]\n",
            "Training trees with max_depth=10, min_samples_split=5, min_samples_leaf=4\n",
            "Accuracy for this combination: [0.4641975308641975, 0.6765432098765433, 0.6345679012345679, 0.6271604938271605]\n",
            "Training trees with max_depth=10, min_samples_split=10, min_samples_leaf=1\n",
            "Accuracy for this combination: [0.6469135802469136, 0.6222222222222222, 0.6617283950617284, 0.528395061728395]\n",
            "Training trees with max_depth=10, min_samples_split=10, min_samples_leaf=2\n",
            "Accuracy for this combination: [0.32839506172839505, 0.49135802469135803, 0.691358024691358, 0.5925925925925926]\n",
            "Training trees with max_depth=10, min_samples_split=10, min_samples_leaf=4\n",
            "Accuracy for this combination: [0.6444444444444445, 0.5975308641975309, 0.6987654320987654, 0.7086419753086419]\n",
            "Training trees with max_depth=15, min_samples_split=2, min_samples_leaf=1\n",
            "Accuracy for this combination: [0.5950617283950618, 0.6074074074074074, 0.6296296296296297, 0.6765432098765433]\n",
            "Training trees with max_depth=15, min_samples_split=2, min_samples_leaf=2\n",
            "Accuracy for this combination: [0.4444444444444444, 0.562962962962963, 0.7061728395061728, 0.7061728395061728]\n",
            "Training trees with max_depth=15, min_samples_split=2, min_samples_leaf=4\n",
            "Accuracy for this combination: [0.7061728395061728, 0.6469135802469136, 0.5679012345679012, 0.6246913580246913]\n",
            "Training trees with max_depth=15, min_samples_split=5, min_samples_leaf=1\n",
            "Accuracy for this combination: [0.6765432098765433, 0.7012345679012346, 0.6395061728395062, 0.5728395061728395]\n",
            "Training trees with max_depth=15, min_samples_split=5, min_samples_leaf=2\n",
            "Accuracy for this combination: [0.7061728395061728, 0.6592592592592592, 0.5012345679012346, 0.48148148148148145]\n",
            "Training trees with max_depth=15, min_samples_split=5, min_samples_leaf=4\n",
            "Accuracy for this combination: [0.674074074074074, 0.5407407407407407, 0.6641975308641975, 0.6641975308641975]\n",
            "Training trees with max_depth=15, min_samples_split=10, min_samples_leaf=1\n",
            "Accuracy for this combination: [0.6320987654320988, 0.7111111111111111, 0.6469135802469136, 0.691358024691358]\n",
            "Training trees with max_depth=15, min_samples_split=10, min_samples_leaf=2\n",
            "Accuracy for this combination: [0.6814814814814815, 0.6641975308641975, 0.6123456790123457, 0.5876543209876544]\n",
            "Training trees with max_depth=15, min_samples_split=10, min_samples_leaf=4\n",
            "Accuracy for this combination: [0.5530864197530864, 0.5604938271604938, 0.562962962962963, 0.5777777777777777]\n"
          ]
        }
      ]
    },
    {
      "cell_type": "code",
      "source": [
        "for (max_depth, min_samples_split, min_samples_leaf, accuracies) in best_trees:\n",
        "    print(f\"Results for max_depth={max_depth}, min_samples_split={min_samples_split}, min_samples_leaf={min_samples_leaf}\")\n",
        "    print(f\"Accuracy: {accuracies}\")"
      ],
      "metadata": {
        "colab": {
          "base_uri": "https://localhost:8080/"
        },
        "id": "uMQ_o8q4FmSB",
        "outputId": "7ffe64db-c29f-4152-8a6c-d9570cbb979f"
      },
      "execution_count": 101,
      "outputs": [
        {
          "output_type": "stream",
          "name": "stdout",
          "text": [
            "Results for max_depth=5, min_samples_split=2, min_samples_leaf=1\n",
            "Accuracy: [0.7061728395061728, 0.5580246913580247, 0.7086419753086419, 0.4419753086419753]\n",
            "Results for max_depth=5, min_samples_split=2, min_samples_leaf=2\n",
            "Accuracy: [0.7061728395061728, 0.4617283950617284, 0.7012345679012346, 0.6987654320987654]\n",
            "Results for max_depth=5, min_samples_split=2, min_samples_leaf=4\n",
            "Accuracy: [0.671604938271605, 0.4271604938271605, 0.6938271604938272, 0.4074074074074074]\n",
            "Results for max_depth=5, min_samples_split=5, min_samples_leaf=1\n",
            "Accuracy: [0.7086419753086419, 0.5728395061728395, 0.7061728395061728, 0.7086419753086419]\n",
            "Results for max_depth=5, min_samples_split=5, min_samples_leaf=2\n",
            "Accuracy: [0.7037037037037037, 0.6024691358024692, 0.6641975308641975, 0.5506172839506173]\n",
            "Results for max_depth=5, min_samples_split=5, min_samples_leaf=4\n",
            "Accuracy: [0.6049382716049383, 0.7061728395061728, 0.6444444444444445, 0.5728395061728395]\n",
            "Results for max_depth=5, min_samples_split=10, min_samples_leaf=1\n",
            "Accuracy: [0.5679012345679012, 0.6814814814814815, 0.7135802469135802, 0.6938271604938272]\n",
            "Results for max_depth=5, min_samples_split=10, min_samples_leaf=2\n",
            "Accuracy: [0.7061728395061728, 0.5876543209876544, 0.6419753086419753, 0.4024691358024691]\n",
            "Results for max_depth=5, min_samples_split=10, min_samples_leaf=4\n",
            "Accuracy: [0.6123456790123457, 0.6172839506172839, 0.7061728395061728, 0.5481481481481482]\n",
            "Results for max_depth=10, min_samples_split=2, min_samples_leaf=1\n",
            "Accuracy: [0.6370370370370371, 0.6049382716049383, 0.6222222222222222, 0.5901234567901235]\n",
            "Results for max_depth=10, min_samples_split=2, min_samples_leaf=2\n",
            "Accuracy: [0.6691358024691358, 0.6864197530864198, 0.6, 0.5604938271604938]\n",
            "Results for max_depth=10, min_samples_split=2, min_samples_leaf=4\n",
            "Accuracy: [0.6271604938271605, 0.6666666666666666, 0.7185185185185186, 0.7037037037037037]\n",
            "Results for max_depth=10, min_samples_split=5, min_samples_leaf=1\n",
            "Accuracy: [0.49876543209876545, 0.6567901234567901, 0.508641975308642, 0.48148148148148145]\n",
            "Results for max_depth=10, min_samples_split=5, min_samples_leaf=2\n",
            "Accuracy: [0.40987654320987654, 0.5777777777777777, 0.5333333333333333, 0.5506172839506173]\n",
            "Results for max_depth=10, min_samples_split=5, min_samples_leaf=4\n",
            "Accuracy: [0.4641975308641975, 0.6765432098765433, 0.6345679012345679, 0.6271604938271605]\n",
            "Results for max_depth=10, min_samples_split=10, min_samples_leaf=1\n",
            "Accuracy: [0.6469135802469136, 0.6222222222222222, 0.6617283950617284, 0.528395061728395]\n",
            "Results for max_depth=10, min_samples_split=10, min_samples_leaf=2\n",
            "Accuracy: [0.32839506172839505, 0.49135802469135803, 0.691358024691358, 0.5925925925925926]\n",
            "Results for max_depth=10, min_samples_split=10, min_samples_leaf=4\n",
            "Accuracy: [0.6444444444444445, 0.5975308641975309, 0.6987654320987654, 0.7086419753086419]\n",
            "Results for max_depth=15, min_samples_split=2, min_samples_leaf=1\n",
            "Accuracy: [0.5950617283950618, 0.6074074074074074, 0.6296296296296297, 0.6765432098765433]\n",
            "Results for max_depth=15, min_samples_split=2, min_samples_leaf=2\n",
            "Accuracy: [0.4444444444444444, 0.562962962962963, 0.7061728395061728, 0.7061728395061728]\n",
            "Results for max_depth=15, min_samples_split=2, min_samples_leaf=4\n",
            "Accuracy: [0.7061728395061728, 0.6469135802469136, 0.5679012345679012, 0.6246913580246913]\n",
            "Results for max_depth=15, min_samples_split=5, min_samples_leaf=1\n",
            "Accuracy: [0.6765432098765433, 0.7012345679012346, 0.6395061728395062, 0.5728395061728395]\n",
            "Results for max_depth=15, min_samples_split=5, min_samples_leaf=2\n",
            "Accuracy: [0.7061728395061728, 0.6592592592592592, 0.5012345679012346, 0.48148148148148145]\n",
            "Results for max_depth=15, min_samples_split=5, min_samples_leaf=4\n",
            "Accuracy: [0.674074074074074, 0.5407407407407407, 0.6641975308641975, 0.6641975308641975]\n",
            "Results for max_depth=15, min_samples_split=10, min_samples_leaf=1\n",
            "Accuracy: [0.6320987654320988, 0.7111111111111111, 0.6469135802469136, 0.691358024691358]\n",
            "Results for max_depth=15, min_samples_split=10, min_samples_leaf=2\n",
            "Accuracy: [0.6814814814814815, 0.6641975308641975, 0.6123456790123457, 0.5876543209876544]\n",
            "Results for max_depth=15, min_samples_split=10, min_samples_leaf=4\n",
            "Accuracy: [0.5530864197530864, 0.5604938271604938, 0.562962962962963, 0.5777777777777777]\n"
          ]
        }
      ]
    },
    {
      "cell_type": "code",
      "source": [
        "def print_tree(tree, indent=\"\"):\n",
        "    if isinstance(tree, dict):\n",
        "        question = list(tree.keys())[0]\n",
        "        print(f\"{indent}Decision: {question}\")\n",
        "        print(f\"{indent}-> Left:\")\n",
        "        print_tree(tree[question][0], indent + \"  \")\n",
        "        print(f\"{indent}-> Right:\")\n",
        "        print_tree(tree[question][1], indent + \"  \")\n",
        "    else:\n",
        "        print(f\"{indent}Predict: {tree}\")\n",
        "\n",
        "for i, tree in enumerate(best_trees):\n",
        "    print(f\"Tree {i+1}:\\n\")\n",
        "    print_tree(tree)\n",
        "    print(\"\\n\" + \"=\"*50 + \"\\n\")"
      ],
      "metadata": {
        "colab": {
          "base_uri": "https://localhost:8080/"
        },
        "id": "6UFOSzMOGbu3",
        "outputId": "30d5fad8-29d0-4183-e99e-de336b7204cb"
      },
      "execution_count": 102,
      "outputs": [
        {
          "output_type": "stream",
          "name": "stdout",
          "text": [
            "Tree 1:\n",
            "\n",
            "Predict: (5, 2, 1, [0.7061728395061728, 0.5580246913580247, 0.7086419753086419, 0.4419753086419753])\n",
            "\n",
            "==================================================\n",
            "\n",
            "Tree 2:\n",
            "\n",
            "Predict: (5, 2, 2, [0.7061728395061728, 0.4617283950617284, 0.7012345679012346, 0.6987654320987654])\n",
            "\n",
            "==================================================\n",
            "\n",
            "Tree 3:\n",
            "\n",
            "Predict: (5, 2, 4, [0.671604938271605, 0.4271604938271605, 0.6938271604938272, 0.4074074074074074])\n",
            "\n",
            "==================================================\n",
            "\n",
            "Tree 4:\n",
            "\n",
            "Predict: (5, 5, 1, [0.7086419753086419, 0.5728395061728395, 0.7061728395061728, 0.7086419753086419])\n",
            "\n",
            "==================================================\n",
            "\n",
            "Tree 5:\n",
            "\n",
            "Predict: (5, 5, 2, [0.7037037037037037, 0.6024691358024692, 0.6641975308641975, 0.5506172839506173])\n",
            "\n",
            "==================================================\n",
            "\n",
            "Tree 6:\n",
            "\n",
            "Predict: (5, 5, 4, [0.6049382716049383, 0.7061728395061728, 0.6444444444444445, 0.5728395061728395])\n",
            "\n",
            "==================================================\n",
            "\n",
            "Tree 7:\n",
            "\n",
            "Predict: (5, 10, 1, [0.5679012345679012, 0.6814814814814815, 0.7135802469135802, 0.6938271604938272])\n",
            "\n",
            "==================================================\n",
            "\n",
            "Tree 8:\n",
            "\n",
            "Predict: (5, 10, 2, [0.7061728395061728, 0.5876543209876544, 0.6419753086419753, 0.4024691358024691])\n",
            "\n",
            "==================================================\n",
            "\n",
            "Tree 9:\n",
            "\n",
            "Predict: (5, 10, 4, [0.6123456790123457, 0.6172839506172839, 0.7061728395061728, 0.5481481481481482])\n",
            "\n",
            "==================================================\n",
            "\n",
            "Tree 10:\n",
            "\n",
            "Predict: (10, 2, 1, [0.6370370370370371, 0.6049382716049383, 0.6222222222222222, 0.5901234567901235])\n",
            "\n",
            "==================================================\n",
            "\n",
            "Tree 11:\n",
            "\n",
            "Predict: (10, 2, 2, [0.6691358024691358, 0.6864197530864198, 0.6, 0.5604938271604938])\n",
            "\n",
            "==================================================\n",
            "\n",
            "Tree 12:\n",
            "\n",
            "Predict: (10, 2, 4, [0.6271604938271605, 0.6666666666666666, 0.7185185185185186, 0.7037037037037037])\n",
            "\n",
            "==================================================\n",
            "\n",
            "Tree 13:\n",
            "\n",
            "Predict: (10, 5, 1, [0.49876543209876545, 0.6567901234567901, 0.508641975308642, 0.48148148148148145])\n",
            "\n",
            "==================================================\n",
            "\n",
            "Tree 14:\n",
            "\n",
            "Predict: (10, 5, 2, [0.40987654320987654, 0.5777777777777777, 0.5333333333333333, 0.5506172839506173])\n",
            "\n",
            "==================================================\n",
            "\n",
            "Tree 15:\n",
            "\n",
            "Predict: (10, 5, 4, [0.4641975308641975, 0.6765432098765433, 0.6345679012345679, 0.6271604938271605])\n",
            "\n",
            "==================================================\n",
            "\n",
            "Tree 16:\n",
            "\n",
            "Predict: (10, 10, 1, [0.6469135802469136, 0.6222222222222222, 0.6617283950617284, 0.528395061728395])\n",
            "\n",
            "==================================================\n",
            "\n",
            "Tree 17:\n",
            "\n",
            "Predict: (10, 10, 2, [0.32839506172839505, 0.49135802469135803, 0.691358024691358, 0.5925925925925926])\n",
            "\n",
            "==================================================\n",
            "\n",
            "Tree 18:\n",
            "\n",
            "Predict: (10, 10, 4, [0.6444444444444445, 0.5975308641975309, 0.6987654320987654, 0.7086419753086419])\n",
            "\n",
            "==================================================\n",
            "\n",
            "Tree 19:\n",
            "\n",
            "Predict: (15, 2, 1, [0.5950617283950618, 0.6074074074074074, 0.6296296296296297, 0.6765432098765433])\n",
            "\n",
            "==================================================\n",
            "\n",
            "Tree 20:\n",
            "\n",
            "Predict: (15, 2, 2, [0.4444444444444444, 0.562962962962963, 0.7061728395061728, 0.7061728395061728])\n",
            "\n",
            "==================================================\n",
            "\n",
            "Tree 21:\n",
            "\n",
            "Predict: (15, 2, 4, [0.7061728395061728, 0.6469135802469136, 0.5679012345679012, 0.6246913580246913])\n",
            "\n",
            "==================================================\n",
            "\n",
            "Tree 22:\n",
            "\n",
            "Predict: (15, 5, 1, [0.6765432098765433, 0.7012345679012346, 0.6395061728395062, 0.5728395061728395])\n",
            "\n",
            "==================================================\n",
            "\n",
            "Tree 23:\n",
            "\n",
            "Predict: (15, 5, 2, [0.7061728395061728, 0.6592592592592592, 0.5012345679012346, 0.48148148148148145])\n",
            "\n",
            "==================================================\n",
            "\n",
            "Tree 24:\n",
            "\n",
            "Predict: (15, 5, 4, [0.674074074074074, 0.5407407407407407, 0.6641975308641975, 0.6641975308641975])\n",
            "\n",
            "==================================================\n",
            "\n",
            "Tree 25:\n",
            "\n",
            "Predict: (15, 10, 1, [0.6320987654320988, 0.7111111111111111, 0.6469135802469136, 0.691358024691358])\n",
            "\n",
            "==================================================\n",
            "\n",
            "Tree 26:\n",
            "\n",
            "Predict: (15, 10, 2, [0.6814814814814815, 0.6641975308641975, 0.6123456790123457, 0.5876543209876544])\n",
            "\n",
            "==================================================\n",
            "\n",
            "Tree 27:\n",
            "\n",
            "Predict: (15, 10, 4, [0.5530864197530864, 0.5604938271604938, 0.562962962962963, 0.5777777777777777])\n",
            "\n",
            "==================================================\n",
            "\n"
          ]
        }
      ]
    },
    {
      "cell_type": "code",
      "source": [],
      "metadata": {
        "id": "Y8Rc0LAnJg-M"
      },
      "execution_count": 102,
      "outputs": []
    }
  ]
}